{
 "cells": [
  {
   "cell_type": "code",
   "execution_count": 1,
   "id": "98a09abe",
   "metadata": {},
   "outputs": [],
   "source": [
    "import tkinter as tk\n",
    "import socket\n",
    "import os\n",
    "from datetime import datetime\n",
    "HOST = \"192.168.30.228\"   # 改成你的 Ingest IP\n",
    "PORT = 32108             # 改成你的 Port\n"
   ]
  },
  {
   "cell_type": "code",
   "execution_count": 16,
   "id": "e4b24fc4",
   "metadata": {},
   "outputs": [],
   "source": [
    "date_folder = datetime.today().strftime(\"%m.%d.%Y\")\n",
    "date_prefix = datetime.today().strftime(\"%m%d\")  "
   ]
  },
  {
   "cell_type": "code",
   "execution_count": 17,
   "id": "5a8d0bbd",
   "metadata": {},
   "outputs": [],
   "source": [
    "SAVE_BASE = r\"E:\\\\\"\n",
    "folder_path = os.path.join(SAVE_BASE, date_folder)"
   ]
  },
  {
   "cell_type": "code",
   "execution_count": 18,
   "id": "500e4a96",
   "metadata": {},
   "outputs": [
    {
     "name": "stdout",
     "output_type": "stream",
     "text": [
      "📁 建立新資料夾：E:\\\\06.26.2025\n"
     ]
    }
   ],
   "source": [
    "folder_path = os.path.join(SAVE_BASE, date_folder)\n",
    "if not os.path.exists(folder_path):\n",
    "    os.makedirs(folder_path)\n",
    "    log(f\"📁 建立新資料夾：{folder_path}\")\n",
    "else:\n",
    "    log(f\"📁 使用現有資料夾：{folder_path}\")"
   ]
  },
  {
   "cell_type": "code",
   "execution_count": 20,
   "id": "a4d024e3",
   "metadata": {},
   "outputs": [],
   "source": [
    "final_filename = f\"{date_prefix}_中文\"  # 0626_使用者輸入\n",
    "full_path = os.path.join(date_folder, final_filename)  # 不要含 E:\\ 以免多餘"
   ]
  },
  {
   "cell_type": "code",
   "execution_count": 6,
   "id": "9711378a",
   "metadata": {},
   "outputs": [],
   "source": [
    "import socket\n",
    "def connect_socket():\n",
    "    HOST = \"192.168.30.228\"\n",
    "    PORT = 32108\n",
    "    try:\n",
    "        s = socket.socket(socket.AF_INET, socket.SOCK_STREAM)\n",
    "        s.settimeout(3)\n",
    "        log(f\"🚀 嘗試連線 {HOST}:{PORT}...\")\n",
    "        s.connect((HOST, PORT))\n",
    "        log(\"✅ 連線成功\")\n",
    "        return s  # 傳回已連線的 socket 物件\n",
    "    except Exception as e:\n",
    "        log(\"❌ 無法連線:\", e)\n",
    "        return None\n",
    "def send_command(sock, cmd):\n",
    "    try:\n",
    "        sock.sendall((cmd + \"\\r\\n\").encode(\"cp950\", errors=\"replace\"))\n",
    "        response = sock.recv(2048).decode(\"cp950\", errors=\"replace\")\n",
    "        log(f\"⬅️ Response:\\n{response}\")\n",
    "        return response.strip()\n",
    "    except Exception as e:\n",
    "        log(\"❌ 傳送/接收失敗:\", e)\n",
    "        return \"\"\n",
    "def list_encoders():\n",
    "    response = send_command(\"List\")\n",
    "    if not response:\n",
    "        log(\"⚠️ 沒收到任何回應\")\n",
    "        return []\n",
    "\n",
    "    lines = response.splitlines()\n",
    "    encoder_names = []\n",
    "    for line in lines:\n",
    "        line = line.strip()\n",
    "        if line and \"Mode:\" in line:\n",
    "            # 例如：Bak4-1   Mode: Quick\n",
    "            encoder_name = line.split(\"Mode:\")[0].strip()\n",
    "            encoder_names.append(encoder_name)\n",
    "\n",
    "    log(f\"🎯 擷取到 Encoder 名稱：{encoder_names}\")\n",
    "    return encoder_names\n"
   ]
  },
  {
   "cell_type": "code",
   "execution_count": 26,
   "id": "d20cc741",
   "metadata": {},
   "outputs": [],
   "source": [
    "# encoder_utils.py\n",
    "import socket\n",
    "\n",
    "HOST = \"192.168.30.228\"\n",
    "PORT = 32108\n",
    "\n",
    "def connect_socket():\n",
    "    try:\n",
    "        s = socket.socket(socket.AF_INET, socket.SOCK_STREAM)\n",
    "        s.settimeout(3)\n",
    "        s.connect((HOST, PORT))\n",
    "        log(\"✅ 已建立 socket 連線\")\n",
    "        return s\n",
    "    except Exception as e:\n",
    "        log(\"❌ 連線失敗:\", e)\n",
    "        return None\n",
    "\n",
    "def send_command(sock, cmd):\n",
    "    try:\n",
    "        encoded = (cmd + \"\\r\\n\").encode(\"cp950\")\n",
    "        sock.sendall(encoded)\n",
    "        sock.settimeout(2)\n",
    "        data = b\"\"\n",
    "        while True:\n",
    "            try:\n",
    "                chunk = sock.recv(1024)\n",
    "                if not chunk:\n",
    "                    break\n",
    "                data += chunk\n",
    "            except socket.timeout:\n",
    "                break\n",
    "        response = data.decode(\"cp950\", errors=\"replace\")\n",
    "        log(\"⬅️ Response:\\n\", response)\n",
    "        return response.strip()\n",
    "    except Exception as e:\n",
    "        log(\"❌ 指令傳送失敗:\", e)\n",
    "        return \"\"\n",
    "\n",
    "def list_encoders():\n",
    "    sock = connect_socket()\n",
    "    if not sock:\n",
    "        return []\n",
    "    response = send_command(sock, \"List\")\n",
    "    sock.close()\n",
    "\n",
    "    encoders = []\n",
    "    for line in response.splitlines():\n",
    "        if \"Mode:\" in line:\n",
    "            enc_name = line.split(\"Mode:\")[0].strip()\n",
    "            encoders.append(enc_name)\n",
    "    if not encoders:\n",
    "        log(\"⚠️ 沒有從 socket 抓到 encoder\")\n",
    "    return encoders\n"
   ]
  },
  {
   "cell_type": "code",
   "execution_count": 28,
   "id": "f4d88fe2",
   "metadata": {},
   "outputs": [
    {
     "name": "stdout",
     "output_type": "stream",
     "text": [
      "✅ 已建立 socket 連線\n",
      "⬅️ Response:\n",
      "  \n",
      "OK: \n",
      "Bak4-1      Mode: Quick\n",
      "State: Runned\n",
      "Start Time: 2025/6/27 下午 05:48:33\n",
      "   1920x1080 29.97 fps,      8 Ch. 48000 Hz\n",
      "   No stream\n",
      "Video Signal: Exists\n",
      "Bak4-2      Mode: Quick\n",
      "State: Runned\n",
      "Start Time: 2025/6/27 下午 05:48:33\n",
      "   1920x1080 29.97 fps,      8 Ch. 48000 Hz\n",
      "   No stream\n",
      "Video Signal: Exists\n",
      "\n",
      "\n",
      "✅ Encoder 列表： ['Bak4-1', 'Bak4-2']\n"
     ]
    }
   ],
   "source": [
    "\n",
    "encoder_names = list_encoders()\n",
    "log(\"✅ Encoder 列表：\", encoder_names)\n"
   ]
  },
  {
   "cell_type": "code",
   "execution_count": 25,
   "id": "2c094ab6",
   "metadata": {},
   "outputs": [
    {
     "name": "stdout",
     "output_type": "stream",
     "text": [
      "✅ 已建立 socket 連線\n",
      "⬅️ Response:\n",
      "\n",
      "⚠️ 沒有從 socket 抓到 encoder\n"
     ]
    }
   ],
   "source": [
    "encoder_names = list_encoders()"
   ]
  }
 ],
 "metadata": {
  "kernelspec": {
   "display_name": "python3.13.5",
   "language": "python",
   "name": "python3"
  },
  "language_info": {
   "codemirror_mode": {
    "name": "ipython",
    "version": 3
   },
   "file_extension": ".py",
   "mimetype": "text/x-python",
   "name": "python",
   "nbconvert_exporter": "python",
   "pygments_lexer": "ipython3",
   "version": "3.13.5"
  }
 },
 "nbformat": 4,
 "nbformat_minor": 5
}
