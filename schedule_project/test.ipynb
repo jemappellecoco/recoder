{
 "cells": [
  {
   "cell_type": "code",
   "execution_count": 1,
   "id": "98a09abe",
   "metadata": {},
   "outputs": [],
   "source": [
    "import tkinter as tk\n",
    "import socket\n",
    "import os\n",
    "from datetime import datetime\n",
    "HOST = \"192.168.30.228\"   # 改成你的 Ingest IP\n",
    "PORT = 32108             # 改成你的 Port\n"
   ]
  },
  {
   "cell_type": "code",
   "execution_count": 16,
   "id": "e4b24fc4",
   "metadata": {},
   "outputs": [],
   "source": [
    "date_folder = datetime.today().strftime(\"%m.%d.%Y\")\n",
    "date_prefix = datetime.today().strftime(\"%m%d\")  "
   ]
  },
  {
   "cell_type": "code",
   "execution_count": 17,
   "id": "5a8d0bbd",
   "metadata": {},
   "outputs": [],
   "source": [
    "SAVE_BASE = r\"E:\\\\\"\n",
    "folder_path = os.path.join(SAVE_BASE, date_folder)"
   ]
  },
  {
   "cell_type": "code",
   "execution_count": 18,
   "id": "500e4a96",
   "metadata": {},
   "outputs": [
    {
     "name": "stdout",
     "output_type": "stream",
     "text": [
      "📁 建立新資料夾：E:\\\\06.26.2025\n"
     ]
    }
   ],
   "source": [
    "folder_path = os.path.join(SAVE_BASE, date_folder)\n",
    "if not os.path.exists(folder_path):\n",
    "    os.makedirs(folder_path)\n",
    "    log(f\"📁 建立新資料夾：{folder_path}\")\n",
    "else:\n",
    "    log(f\"📁 使用現有資料夾：{folder_path}\")"
   ]
  },
  {
   "cell_type": "code",
   "execution_count": 20,
   "id": "a4d024e3",
   "metadata": {},
   "outputs": [],
   "source": [
    "final_filename = f\"{date_prefix}_中文\"  # 0626_使用者輸入\n",
    "full_path = os.path.join(date_folder, final_filename)  # 不要含 E:\\ 以免多餘"
   ]
  },
  {
   "cell_type": "code",
   "execution_count": 6,
   "id": "9711378a",
   "metadata": {},
   "outputs": [],
   "source": [
    "import socket\n",
    "def connect_socket():\n",
    "    HOST = \"192.168.30.228\"\n",
    "    PORT = 32108\n",
    "    try:\n",
    "        s = socket.socket(socket.AF_INET, socket.SOCK_STREAM)\n",
    "        s.settimeout(3)\n",
    "        log(f\"🚀 嘗試連線 {HOST}:{PORT}...\")\n",
    "        s.connect((HOST, PORT))\n",
    "        log(\"✅ 連線成功\")\n",
    "        return s  # 傳回已連線的 socket 物件\n",
    "    except Exception as e:\n",
    "        log(\"❌ 無法連線:\", e)\n",
    "        return None\n",
    "def send_command(sock, cmd):\n",
    "    try:\n",
    "        sock.sendall((cmd + \"\\r\\n\").encode(\"cp950\", errors=\"replace\"))\n",
    "        response = sock.recv(2048).decode(\"cp950\", errors=\"replace\")\n",
    "        log(f\"⬅️ Response:\\n{response}\")\n",
    "        return response.strip()\n",
    "    except Exception as e:\n",
    "        log(\"❌ 傳送/接收失敗:\", e)\n",
    "        return \"\"\n",
    "def list_encoders():\n",
    "    response = send_command(\"List\")\n",
    "    if not response:\n",
    "        log(\"⚠️ 沒收到任何回應\")\n",
    "        return []\n",
    "\n",
    "    lines = response.splitlines()\n",
    "    encoder_names = []\n",
    "    for line in lines:\n",
    "        line = line.strip()\n",
    "        if line and \"Mode:\" in line:\n",
    "            # 例如：Bak4-1   Mode: Quick\n",
    "            encoder_name = line.split(\"Mode:\")[0].strip()\n",
    "            encoder_names.append(encoder_name)\n",
    "\n",
    "    log(f\"🎯 擷取到 Encoder 名稱：{encoder_names}\")\n",
    "    return encoder_names\n"
   ]
  },
  {
   "cell_type": "code",
   "execution_count": null,
   "id": "d20cc741",
   "metadata": {},
   "outputs": [],
   "source": [
    "# encoder_utils.py\n",
    "import socket\n",
    "from utils import log\n",
    "HOST = \"192.168.30.228\"\n",
    "PORT = 32108\n",
    "\n",
    "def connect_socket():\n",
    "    try:\n",
    "        s = socket.socket(socket.AF_INET, socket.SOCK_STREAM)\n",
    "        s.settimeout(3)\n",
    "        s.connect((HOST, PORT))\n",
    "        log(\"✅ 已建立 socket 連線\")\n",
    "        return s\n",
    "    except Exception as e:\n",
    "        log(\"❌ 連線失敗:\", e)\n",
    "        return None\n",
    "\n",
    "def send_command(sock, cmd):\n",
    "    try:\n",
    "        encoded = (cmd + \"\\r\\n\").encode(\"cp950\")\n",
    "        sock.sendall(encoded)\n",
    "        sock.settimeout(2)\n",
    "        data = b\"\"\n",
    "        while True:\n",
    "            try:\n",
    "                chunk = sock.recv(1024)\n",
    "                if not chunk:\n",
    "                    break\n",
    "                data += chunk\n",
    "            except socket.timeout:\n",
    "                break\n",
    "        response = data.decode(\"cp950\", errors=\"replace\")\n",
    "        log(\"⬅️ Response:\\n\", response)\n",
    "        return response.strip()\n",
    "    except Exception as e:\n",
    "        log(\"❌ 指令傳送失敗:\", e)\n",
    "        return \"\"\n",
    "\n",
    "def list_encoders():\n",
    "    sock = connect_socket()\n",
    "    if not sock:\n",
    "        return []\n",
    "    response = send_command(sock, \"List\")\n",
    "    sock.close()\n",
    "\n",
    "    encoders = []\n",
    "    for line in response.splitlines():\n",
    "        if \"Mode:\" in line:\n",
    "            enc_name = line.split(\"Mode:\")[0].strip()\n",
    "            encoders.append(enc_name)\n",
    "    if not encoders:\n",
    "        log(\"⚠️ 沒有從 socket 抓到 encoder\")\n",
    "    return encoders\n"
   ]
  },
  {
   "cell_type": "code",
   "execution_count": 6,
   "id": "f4d88fe2",
   "metadata": {},
   "outputs": [
    {
     "name": "stdout",
     "output_type": "stream",
     "text": [
      "[16:55:00] [INFO] ✅ 已建立 socket 連線\n",
      "[16:55:02] [ \n",
      "OK: \n",
      "Bak4-1      Mode: Quick\n",
      "State: Stopped\n",
      "Start Time: \n",
      "   1920x1080 29.97 fps,      8 Ch. 48000 Hz\n",
      "   Streaming enabled\n",
      "Video Signal: Exists\n",
      "Bak4-2      Mode: Quick\n",
      "State: Stopped\n",
      "Start Time: \n",
      "   1920x1080 29.97 fps,      8 Ch. 48000 Hz\n",
      "   No stream\n",
      "Video Signal: Exists\n",
      "\n",
      "] ⬅️ Response:\n",
      "\n"
     ]
    }
   ],
   "source": [
    "\n",
    "encoder_names = list_encoders()\n",
    "\n"
   ]
  },
  {
   "cell_type": "code",
   "execution_count": null,
   "id": "2c094ab6",
   "metadata": {},
   "outputs": [],
   "source": [
    "import socket\n",
    "import json\n",
    "import os\n",
    "from utils import log, resource_path\n",
    "\n",
    "ENCODER_CONFIG_FILE = \"encoders.json\"\n",
    "ENCODER_CONFIG_PATH = resource_path(ENCODER_CONFIG_FILE)\n",
    "\n",
    "encoder_config = {}\n",
    "\n",
    "def connect_socket(ip, port):\n",
    "    try:\n",
    "        s = socket.socket(socket.AF_INET, socket.SOCK_STREAM)\n",
    "        s.settimeout(3)\n",
    "        s.connect((ip, port))\n",
    "        log(f\"✅ 已建立 socket 連線：{ip}:{port}\")\n",
    "        return s\n",
    "    except Exception as e:\n",
    "        log(f\"❌ 無法連線 {ip}:{port} - {e}\")\n",
    "        return None\n",
    "\n",
    "def send_command(sock, cmd):\n",
    "    try:\n",
    "        encoded = (cmd + \"\\r\\n\").encode(\"cp950\")\n",
    "        sock.sendall(encoded)\n",
    "        sock.settimeout(2)\n",
    "        data = b\"\"\n",
    "        while True:\n",
    "            try:\n",
    "                chunk = sock.recv(1024)\n",
    "                if not chunk:\n",
    "                    break\n",
    "                data += chunk\n",
    "            except socket.timeout:\n",
    "                break\n",
    "        response = data.decode(\"cp950\", errors=\"replace\")\n",
    "        log(\"⬅️ Response:\\n\" + response)\n",
    "        return response.strip()\n",
    "    except Exception as e:\n",
    "        log(f\"❌ 指令傳送失敗: {e}\")\n",
    "        return \"\"\n",
    "\n",
    "def discover_encoders(ip: str, port: int):\n",
    "    \"\"\"\n",
    "    掃描指定 IP/Port，透過 LIST 指令取得 encoder 名稱，並儲存到 encoders.json\n",
    "    \"\"\"\n",
    "    sock = connect_socket(ip, port)\n",
    "    if not sock:\n",
    "        return []\n",
    "\n",
    "    response = send_command(sock, \"LIST\")\n",
    "    sock.close()\n",
    "\n",
    "    names = []\n",
    "    for line in response.splitlines():\n",
    "        if \"Mode:\" in line:\n",
    "            name = line.split(\"Mode:\")[0].strip()\n",
    "            if name and name not in names:\n",
    "                names.append(name)\n",
    "\n",
    "    if not names:\n",
    "        log(\"⚠️ 沒有找到任何 encoder 名稱\")\n",
    "        return []\n",
    "\n",
    "    # 載入原有設定，防止 encoders.json 為空或壞掉\n",
    "    try:\n",
    "        if os.path.exists(ENCODER_CONFIG_PATH):\n",
    "            with open(ENCODER_CONFIG_PATH, \"r\", encoding=\"utf-8\") as f:\n",
    "                try:\n",
    "                    config = json.load(f)\n",
    "                except json.JSONDecodeError:\n",
    "                    log(\"⚠️ encoders.json 無效，重新建立新設定\")\n",
    "                    config = {}\n",
    "        else:\n",
    "            config = {}\n",
    "    except Exception as e:\n",
    "        log(f\"❌ 無法讀取 {ENCODER_CONFIG_PATH}: {e}\")\n",
    "        config = {}\n",
    "\n",
    "    # 寫入新的名稱\n",
    "    for name in names:\n",
    "        config[name] = {\"host\": ip, \"port\": port}\n",
    "\n",
    "    try:\n",
    "        with open(ENCODER_CONFIG_PATH, \"w\", encoding=\"utf-8\") as f:\n",
    "            json.dump(config, f, indent=2, ensure_ascii=False)\n",
    "        log(f\"✅ 已將 {len(names)} 個 encoder 寫入 {ENCODER_CONFIG_PATH}\")\n",
    "\n",
    "        # 更新全域 encoder_config 變數\n",
    "        global encoder_config\n",
    "        encoder_config = config\n",
    "\n",
    "    except Exception as e:\n",
    "        log(f\"❌ 寫入 config 失敗: {e}\")\n",
    "        return []\n",
    "\n",
    "    return names\n"
   ]
  },
  {
   "cell_type": "code",
   "execution_count": 18,
   "id": "5718dfb2",
   "metadata": {},
   "outputs": [
    {
     "name": "stdout",
     "output_type": "stream",
     "text": [
      "[17:07:51] [INFO] ✅ 已建立 socket 連線：192.168.30.228:32108\n",
      "[17:07:53] [INFO] ⬅️ Response:\n",
      " \n",
      "OK: \n",
      "Bak4-1      Mode: Quick\n",
      "State: Stopped\n",
      "Start Time: \n",
      "   1920x1080 29.97 fps,      8 Ch. 48000 Hz\n",
      "   Streaming enabled\n",
      "Video Signal: Exists\n",
      "Bak4-2      Mode: Quick\n",
      "State: Stopped\n",
      "Start Time: \n",
      "   1920x1080 29.97 fps,      8 Ch. 48000 Hz\n",
      "   No stream\n",
      "Video Signal: Exists\n",
      "\n",
      "\n",
      "[17:07:53] [INFO] ❌ 寫入 config 失敗: Expecting value: line 1 column 1 (char 0)\n"
     ]
    },
    {
     "data": {
      "text/plain": [
       "[]"
      ]
     },
     "execution_count": 18,
     "metadata": {},
     "output_type": "execute_result"
    }
   ],
   "source": [
    "# 手動指定一台新設備的 IP/Port\n",
    "discover_encoders(\"192.168.30.228\", 32108)\n"
   ]
  },
  {
   "cell_type": "code",
   "execution_count": null,
   "id": "ab2fc998",
   "metadata": {},
   "outputs": [
    {
     "name": "stdout",
     "output_type": "stream",
     "text": [
      "[17:06:32] [INFO] 📂 嘗試讀取 encoder 設定：c:\\Users\\coco\\recoder\\schedule_project\\encoders.json\n",
      "[17:06:32] [INFO] ❌ 讀取 encoders.json 時發生錯誤：Expecting value: line 1 column 1 (char 0)\n"
     ]
    },
    {
     "ename": "ImportError",
     "evalue": "cannot import name 'discover_encoders' from 'encoder_utils' (c:\\Users\\coco\\recoder\\schedule_project\\encoder_utils.py)",
     "output_type": "error",
     "traceback": [
      "\u001b[31m---------------------------------------------------------------------------\u001b[39m",
      "\u001b[31mImportError\u001b[39m                               Traceback (most recent call last)",
      "\u001b[36mCell\u001b[39m\u001b[36m \u001b[39m\u001b[32mIn[16]\u001b[39m\u001b[32m, line 1\u001b[39m\n\u001b[32m----> \u001b[39m\u001b[32m1\u001b[39m \u001b[38;5;28;01mfrom\u001b[39;00m\u001b[38;5;250m \u001b[39m\u001b[34;01mencoder_utils\u001b[39;00m\u001b[38;5;250m \u001b[39m\u001b[38;5;28;01mimport\u001b[39;00m discover_encoders, list_encoders, send_encoder_command\n\u001b[32m      3\u001b[39m \u001b[38;5;66;03m# 步驟 1：掃描指定 IP/Port，並自動取得名稱（Bak4-1 等）\u001b[39;00m\n\u001b[32m      4\u001b[39m discover_encoders(\u001b[33m\"\u001b[39m\u001b[33m192.168.30.228\u001b[39m\u001b[33m\"\u001b[39m, \u001b[32m32108\u001b[39m)\n",
      "\u001b[31mImportError\u001b[39m: cannot import name 'discover_encoders' from 'encoder_utils' (c:\\Users\\coco\\recoder\\schedule_project\\encoder_utils.py)"
     ]
    }
   ],
   "source": [
    "discover_encoders(\"192.168.30.228\", 32108)\n",
    "print(list_encoders())"
   ]
  },
  {
   "cell_type": "code",
   "execution_count": null,
   "id": "c1101bac",
   "metadata": {},
   "outputs": [],
   "source": []
  },
  {
   "cell_type": "code",
   "execution_count": null,
   "id": "fffe3249",
   "metadata": {},
   "outputs": [],
   "source": []
  }
 ],
 "metadata": {
  "kernelspec": {
   "display_name": "python3.13.5",
   "language": "python",
   "name": "python3"
  },
  "language_info": {
   "codemirror_mode": {
    "name": "ipython",
    "version": 3
   },
   "file_extension": ".py",
   "mimetype": "text/x-python",
   "name": "python",
   "nbconvert_exporter": "python",
   "pygments_lexer": "ipython3",
   "version": "3.13.5"
  }
 },
 "nbformat": 4,
 "nbformat_minor": 5
}
