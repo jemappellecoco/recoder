{
 "cells": [
  {
   "cell_type": "code",
   "execution_count": 1,
   "id": "98a09abe",
   "metadata": {},
   "outputs": [],
   "source": [
    "import tkinter as tk\n",
    "import socket\n",
    "import os\n",
    "from datetime import datetime\n",
    "HOST = \"192.168.30.228\"   # 改成你的 Ingest IP\n",
    "PORT = 32108             # 改成你的 Port\n"
   ]
  },
  {
   "cell_type": "code",
   "execution_count": 16,
   "id": "e4b24fc4",
   "metadata": {},
   "outputs": [],
   "source": [
    "date_folder = datetime.today().strftime(\"%m.%d.%Y\")\n",
    "date_prefix = datetime.today().strftime(\"%m%d\")  "
   ]
  },
  {
   "cell_type": "code",
   "execution_count": 17,
   "id": "5a8d0bbd",
   "metadata": {},
   "outputs": [],
   "source": [
    "SAVE_BASE = r\"E:\\\\\"\n",
    "folder_path = os.path.join(SAVE_BASE, date_folder)"
   ]
  },
  {
   "cell_type": "code",
   "execution_count": 18,
   "id": "500e4a96",
   "metadata": {},
   "outputs": [
    {
     "name": "stdout",
     "output_type": "stream",
     "text": [
      "📁 建立新資料夾：E:\\\\06.26.2025\n"
     ]
    }
   ],
   "source": [
    "folder_path = os.path.join(SAVE_BASE, date_folder)\n",
    "if not os.path.exists(folder_path):\n",
    "    os.makedirs(folder_path)\n",
    "    print(f\"📁 建立新資料夾：{folder_path}\")\n",
    "else:\n",
    "    print(f\"📁 使用現有資料夾：{folder_path}\")"
   ]
  },
  {
   "cell_type": "code",
   "execution_count": 20,
   "id": "a4d024e3",
   "metadata": {},
   "outputs": [],
   "source": [
    "final_filename = f\"{date_prefix}_中文\"  # 0626_使用者輸入\n",
    "full_path = os.path.join(date_folder, final_filename)  # 不要含 E:\\ 以免多餘"
   ]
  },
  {
   "cell_type": "code",
   "execution_count": null,
   "id": "9711378a",
   "metadata": {},
   "outputs": [
    {
     "data": {
      "text/plain": [
       "'06.26.2025\\\\0626_中文'"
      ]
     },
     "execution_count": 25,
     "metadata": {},
     "output_type": "execute_result"
    }
   ],
   "source": [
    "Setfile \"Bak4-1\" 1 06.26.2025\\0626_testABC\n"
   ]
  }
 ],
 "metadata": {
  "kernelspec": {
   "display_name": "python3.13.5",
   "language": "python",
   "name": "python3"
  },
  "language_info": {
   "codemirror_mode": {
    "name": "ipython",
    "version": 3
   },
   "file_extension": ".py",
   "mimetype": "text/x-python",
   "name": "python",
   "nbconvert_exporter": "python",
   "pygments_lexer": "ipython3",
   "version": "3.13.5"
  }
 },
 "nbformat": 4,
 "nbformat_minor": 5
}
